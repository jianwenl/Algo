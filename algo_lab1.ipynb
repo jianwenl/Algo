{
 "cells": [
  {
   "cell_type": "code",
   "execution_count": 16,
   "metadata": {},
   "outputs": [
    {
     "data": {
      "text/plain": [
       "[100,\n",
       " 7,\n",
       " 49,\n",
       " 73,\n",
       " 58,\n",
       " 130,\n",
       " 72,\n",
       " 144,\n",
       " 78,\n",
       " 123,\n",
       " 109,\n",
       " 40,\n",
       " 165,\n",
       " 92,\n",
       " 42,\n",
       " 187,\n",
       " 103,\n",
       " 127,\n",
       " 129,\n",
       " 40,\n",
       " 12,\n",
       " 103,\n",
       " 169,\n",
       " 109,\n",
       " 157,\n",
       " 160,\n",
       " 133,\n",
       " 99,\n",
       " 78,\n",
       " 16,\n",
       " 135,\n",
       " 97,\n",
       " 26,\n",
       " 112,\n",
       " 67,\n",
       " 10,\n",
       " 33,\n",
       " 179,\n",
       " 149,\n",
       " 179,\n",
       " 21,\n",
       " 167,\n",
       " 72,\n",
       " 193,\n",
       " 136,\n",
       " 85,\n",
       " 145,\n",
       " 28,\n",
       " 91,\n",
       " 194,\n",
       " 157,\n",
       " 1,\n",
       " 153,\n",
       " 108,\n",
       " 144,\n",
       " 68,\n",
       " 90,\n",
       " 124,\n",
       " 196,\n",
       " 130,\n",
       " 103,\n",
       " 122,\n",
       " 66,\n",
       " 149,\n",
       " 24,\n",
       " 1,\n",
       " 53,\n",
       " 177,\n",
       " 8,\n",
       " 28,\n",
       " 133,\n",
       " 98,\n",
       " 181,\n",
       " 35,\n",
       " 13,\n",
       " 65,\n",
       " 14,\n",
       " 63,\n",
       " 136,\n",
       " 25,\n",
       " 69,\n",
       " 115,\n",
       " 94,\n",
       " 29,\n",
       " 101,\n",
       " 117,\n",
       " 195,\n",
       " 105,\n",
       " 4,\n",
       " 51,\n",
       " 98,\n",
       " 188,\n",
       " 123,\n",
       " 105,\n",
       " 82,\n",
       " 152,\n",
       " 166,\n",
       " 116,\n",
       " 137,\n",
       " 38,\n",
       " 144]"
      ]
     },
     "execution_count": 16,
     "metadata": {},
     "output_type": "execute_result"
    }
   ],
   "source": [
    "f = open('lab2_test_sorting.txt', 'r')\n",
    "f1=[]\n",
    "for line in f:\n",
    "    f1.append(line.replace(\"\\n\",\"\"))\n",
    "f2=[]\n",
    "for i in f1:\n",
    "    f2.append(int(i))\n",
    "f2"
   ]
  },
  {
   "cell_type": "code",
   "execution_count": 17,
   "metadata": {},
   "outputs": [],
   "source": [
    "f3=f2[1:]"
   ]
  },
  {
   "cell_type": "code",
   "execution_count": 18,
   "metadata": {},
   "outputs": [
    {
     "name": "stdout",
     "output_type": "stream",
     "text": [
      "[1, 1, 4, 7, 8, 10, 12, 13, 14, 16, 21, 24, 25, 26, 28, 28, 29, 33, 35, 38, 40, 40, 42, 49, 51, 53, 58, 63, 65, 66, 67, 68, 69, 72, 72, 73, 78, 78, 82, 85, 90, 91, 92, 94, 97, 98, 98, 99, 101, 103, 103, 103, 105, 105, 108, 109, 109, 112, 115, 116, 117, 122, 123, 123, 124, 127, 129, 130, 130, 133, 133, 135, 136, 136, 137, 144, 144, 144, 145, 149, 149, 152, 153, 157, 157, 160, 165, 166, 167, 169, 177, 179, 179, 181, 187, 193, 188, 194, 196, 195]\n"
     ]
    }
   ],
   "source": [
    "def selectionSort(alist):\n",
    "    for i in range(len(alist)):\n",
    "        positionOfmin=-1\n",
    "        #select minum\n",
    "        for location in range(i+1,len(alist)):\n",
    "               if alist[location]<alist[positionOfmin]:\n",
    "                    positionOfmin = location\n",
    "\n",
    "        #swap\n",
    "        temp = alist[i]\n",
    "        alist[i] = alist[positionOfmin]\n",
    "        alist[positionOfmin] = temp\n",
    "        \n",
    "    print (alist)\n",
    "\n",
    "\n",
    "selectionSort(f3)"
   ]
  },
  {
   "cell_type": "code",
   "execution_count": 19,
   "metadata": {},
   "outputs": [
    {
     "name": "stdout",
     "output_type": "stream",
     "text": [
      "[1, 1, 4, 7, 8, 10, 12, 13, 14, 16, 21, 24, 25, 26, 28, 28, 29, 33, 35, 38, 40, 40, 42, 49, 51, 53, 58, 63, 65, 66, 67, 68, 69, 72, 72, 73, 78, 78, 82, 85, 90, 91, 92, 94, 97, 98, 98, 99, 101, 103, 103, 103, 105, 105, 108, 109, 109, 112, 115, 116, 117, 122, 123, 123, 124, 127, 129, 130, 130, 133, 133, 135, 136, 136, 137, 144, 144, 144, 145, 149, 149, 152, 153, 157, 157, 160, 165, 166, 167, 169, 177, 179, 179, 181, 187, 188, 193, 194, 195, 196]\n"
     ]
    }
   ],
   "source": [
    "def insertionSort(alist): \n",
    "  \n",
    "    # Traverse through 1 to len(alist) \n",
    "    for i in range(1, len(alist)): \n",
    "  \n",
    "        key = alist[i] \n",
    "  \n",
    "        # Move elements of alist[0..i-1], that are \n",
    "        # greater than key, to one position ahead \n",
    "        # of their current position \n",
    "        j = i-1\n",
    "        while j >=0 and key < alist[j] : \n",
    "                alist[j+1] = alist[j] \n",
    "                j -= 1\n",
    "        alist[j+1] = key\n",
    "    print (alist)\n",
    "\n",
    "insertionSort(f3)"
   ]
  },
  {
   "cell_type": "code",
   "execution_count": null,
   "metadata": {},
   "outputs": [],
   "source": []
  }
 ],
 "metadata": {
  "kernelspec": {
   "display_name": "Python 3",
   "language": "python",
   "name": "python3"
  },
  "language_info": {
   "codemirror_mode": {
    "name": "ipython",
    "version": 3
   },
   "file_extension": ".py",
   "mimetype": "text/x-python",
   "name": "python",
   "nbconvert_exporter": "python",
   "pygments_lexer": "ipython3",
   "version": "3.7.1"
  }
 },
 "nbformat": 4,
 "nbformat_minor": 2
}
