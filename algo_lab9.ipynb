{
 "cells": [
  {
   "cell_type": "markdown",
   "metadata": {},
   "source": [
    "## Algo lab9: DP for longest common subsequence"
   ]
  },
  {
   "cell_type": "code",
   "execution_count": 5,
   "metadata": {},
   "outputs": [],
   "source": [
    "def lcs(X , Y): \n",
    "    m = len(X) \n",
    "    n = len(Y) \n",
    "  \n",
    "    # declaring the array for storing the dp values \n",
    "    L = [[None]*(n+1) for i in range(m+1)] \n",
    "      \n",
    "    \n",
    "    for i in range(m+1): \n",
    "        for j in range(n+1): \n",
    "            if i == 0 or j == 0 : \n",
    "                L[i][j] = 0\n",
    "                \n",
    "            elif X[i-1] == Y[j-1]: \n",
    "                L[i][j] = L[i-1][j-1]+1\n",
    "                \n",
    "            else: \n",
    "                L[i][j] = max(L[i-1][j] , L[i][j-1])\n",
    "    \n",
    "    # seq itself           \n",
    "    seq=[];\n",
    "    i = len(X);\n",
    "    j = len(Y);\n",
    "    while i > -1 and j > -1:\n",
    "        if X[i-1]==Y[j-1]:\n",
    "#         if L[i-1][j-1]==L[i-2][j-2]+1:\n",
    "        \n",
    "            seq.append(X[i-1]);\n",
    "            i-=1; \n",
    "            j-=1;\n",
    "        \n",
    "        elif L[i][j-1] <= L[i-1][j]:\n",
    "            i-=1\n",
    "        else:\n",
    "            j-=1\n",
    "    \n",
    "    \n",
    "    seq=seq[::-1]\n",
    "    seq=[''.join(seq)]\n",
    "    \n",
    "  \n",
    "    \n",
    "    return L[m][n],seq"
   ]
  },
  {
   "cell_type": "code",
   "execution_count": 6,
   "metadata": {},
   "outputs": [
    {
     "name": "stdout",
     "output_type": "stream",
     "text": [
      "Length and seq of LCS is  (4, ['GTAB'])\n"
     ]
    }
   ],
   "source": [
    "X = \"AGGTAB\"\n",
    "Y = \"GXTXAYB\"\n",
    "print (\"Length and seq of LCS is \", lcs(X, Y))"
   ]
  },
  {
   "cell_type": "code",
   "execution_count": 58,
   "metadata": {},
   "outputs": [
    {
     "data": {
      "text/plain": [
       "['ATCTATAACGAAATGTCAAATAATTTTACGGTAATATAACTTATCAGCGGCGTATACTAAAACGGACGTTACGATATTGTCTCACTTCATCTTACCACCCTCTATCTTATTGCTGATAGAACACTAACCCCTCAGCTTTATTTCTAGTTA',\n",
       " 'CAGTTACACAAAAAACTATGCCAACCCAGAAATCTTGATATTTTACGTGTCAAAAAATGAGGGTCTCTAAATGAGAGTTTGGTACCATGACTTGTAACTCGCACTGCCCTGATCTGCAATCTTGTTCTTAGAAGTGACGCATATTCTATA']"
      ]
     },
     "execution_count": 58,
     "metadata": {},
     "output_type": "execute_result"
    }
   ],
   "source": [
    "f = open('lab9_test_lcs.txt', 'r')\n",
    "f1=[]\n",
    "for line in f:\n",
    "    f1.append(line.replace(\"\\n\",\"\"))\n",
    "f1"
   ]
  },
  {
   "cell_type": "code",
   "execution_count": 59,
   "metadata": {},
   "outputs": [
    {
     "name": "stdout",
     "output_type": "stream",
     "text": [
      "Length and seq of LCS is  (101, ['ATCTATAACGAAATGATATTTTACGGTAAAAAATAGGGCTCTAAAAGAGTTACATATTGTCTCACTTATCTCAATCTTTTCTTAGAATACCATATTCTATA'])\n"
     ]
    }
   ],
   "source": [
    "print (\"Length and seq of LCS is \", lcs(f1[0], f1[1]))"
   ]
  },
  {
   "cell_type": "code",
   "execution_count": null,
   "metadata": {},
   "outputs": [],
   "source": []
  },
  {
   "cell_type": "code",
   "execution_count": null,
   "metadata": {},
   "outputs": [],
   "source": []
  }
 ],
 "metadata": {
  "kernelspec": {
   "display_name": "Python 3",
   "language": "python",
   "name": "python3"
  },
  "language_info": {
   "codemirror_mode": {
    "name": "ipython",
    "version": 3
   },
   "file_extension": ".py",
   "mimetype": "text/x-python",
   "name": "python",
   "nbconvert_exporter": "python",
   "pygments_lexer": "ipython3",
   "version": "3.7.1"
  }
 },
 "nbformat": 4,
 "nbformat_minor": 2
}
