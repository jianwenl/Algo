{
 "cells": [
  {
   "cell_type": "markdown",
   "metadata": {},
   "source": [
    "# Algo lab 11"
   ]
  },
  {
   "cell_type": "code",
   "execution_count": 1,
   "metadata": {},
   "outputs": [],
   "source": [
    "f = open('lab11_test_dijkstra.txt', 'r')\n",
    "f1= [line.strip() for line in f]\n",
    "f2=[]\n",
    "for i in f1:\n",
    "    f2.append(i.split())\n",
    "f2=[list( map(int,i) ) for i in f2]"
   ]
  },
  {
   "cell_type": "code",
   "execution_count": 2,
   "metadata": {},
   "outputs": [
    {
     "data": {
      "text/plain": [
       "[[0, 45, 10],\n",
       " [0, 7, 4],\n",
       " [0, 34, 7],\n",
       " [1, 30, 2],\n",
       " [2, 49, 3],\n",
       " [2, 45, 6],\n",
       " [3, 42, 8],\n",
       " [3, 11, 5],\n",
       " [4, 33, 9],\n",
       " [4, 36, 4],\n",
       " [4, 15, 1],\n",
       " [4, 45, 4],\n",
       " [4, 42, 8],\n",
       " [4, 37, 6],\n",
       " [4, 22, 1],\n",
       " [5, 36, 2],\n",
       " [5, 26, 3],\n",
       " [5, 28, 4],\n",
       " [6, 37, 4],\n",
       " [6, 3, 6],\n",
       " [6, 36, 4],\n",
       " [6, 43, 1],\n",
       " [6, 42, 6],\n",
       " [7, 16, 4],\n",
       " [7, 34, 10],\n",
       " [7, 5, 4],\n",
       " [7, 21, 10],\n",
       " [8, 24, 6],\n",
       " [8, 46, 1],\n",
       " [8, 19, 10],\n",
       " [9, 49, 1],\n",
       " [9, 12, 5],\n",
       " [9, 8, 1],\n",
       " [9, 45, 4],\n",
       " [9, 6, 9],\n",
       " [10, 0, 6],\n",
       " [10, 31, 5],\n",
       " [10, 7, 8],\n",
       " [10, 47, 3],\n",
       " [10, 16, 5],\n",
       " [10, 30, 8],\n",
       " [10, 18, 6],\n",
       " [10, 13, 10],\n",
       " [10, 36, 9],\n",
       " [11, 6, 3],\n",
       " [11, 40, 8],\n",
       " [12, 48, 10],\n",
       " [13, 6, 9],\n",
       " [13, 48, 4],\n",
       " [14, 49, 2],\n",
       " [14, 37, 8],\n",
       " [14, 38, 10],\n",
       " [14, 44, 1],\n",
       " [14, 33, 1],\n",
       " [15, 40, 4],\n",
       " [16, 18, 8],\n",
       " [16, 11, 4],\n",
       " [16, 45, 10],\n",
       " [16, 31, 1],\n",
       " [17, 32, 5],\n",
       " [17, 48, 10],\n",
       " [17, 28, 5],\n",
       " [17, 27, 5],\n",
       " [19, 28, 2],\n",
       " [19, 27, 5],\n",
       " [19, 21, 1],\n",
       " [19, 39, 7],\n",
       " [19, 33, 10],\n",
       " [19, 1, 9],\n",
       " [19, 49, 4],\n",
       " [20, 48, 7],\n",
       " [21, 26, 4],\n",
       " [22, 49, 3],\n",
       " [22, 24, 1],\n",
       " [23, 2, 3],\n",
       " [23, 27, 9],\n",
       " [23, 32, 4],\n",
       " [23, 46, 7],\n",
       " [24, 1, 7],\n",
       " [25, 31, 5],\n",
       " [25, 29, 5],\n",
       " [25, 20, 7],\n",
       " [25, 0, 1],\n",
       " [25, 13, 9],\n",
       " [26, 28, 1],\n",
       " [27, 45, 3],\n",
       " [27, 26, 2],\n",
       " [27, 9, 8],\n",
       " [27, 24, 1],\n",
       " [27, 10, 3],\n",
       " [27, 7, 2],\n",
       " [27, 37, 7],\n",
       " [27, 6, 7],\n",
       " [28, 11, 8],\n",
       " [29, 32, 4],\n",
       " [29, 42, 3],\n",
       " [30, 47, 10],\n",
       " [30, 9, 1],\n",
       " [30, 48, 7],\n",
       " [30, 7, 10],\n",
       " [30, 20, 2],\n",
       " [31, 26, 9],\n",
       " [31, 34, 2],\n",
       " [31, 19, 9],\n",
       " [31, 24, 7],\n",
       " [33, 41, 7],\n",
       " [33, 7, 9],\n",
       " [33, 2, 2],\n",
       " [33, 36, 10],\n",
       " [33, 6, 8],\n",
       " [34, 32, 1],\n",
       " [35, 47, 4],\n",
       " [35, 43, 10],\n",
       " [35, 19, 6],\n",
       " [36, 37, 7],\n",
       " [36, 2, 6],\n",
       " [36, 14, 8],\n",
       " [37, 29, 5],\n",
       " [37, 39, 10],\n",
       " [37, 13, 7],\n",
       " [38, 17, 2],\n",
       " [39, 40, 8],\n",
       " [39, 21, 3],\n",
       " [40, 24, 10],\n",
       " [41, 24, 7],\n",
       " [41, 46, 6],\n",
       " [42, 40, 10],\n",
       " [42, 49, 4],\n",
       " [43, 1, 6],\n",
       " [43, 30, 10],\n",
       " [43, 10, 6],\n",
       " [43, 45, 1],\n",
       " [43, 23, 4],\n",
       " [44, 26, 4],\n",
       " [44, 49, 5],\n",
       " [44, 24, 7],\n",
       " [44, 39, 8],\n",
       " [45, 39, 4],\n",
       " [46, 32, 7],\n",
       " [46, 42, 4],\n",
       " [46, 0, 6],\n",
       " [47, 19, 4],\n",
       " [47, 34, 9],\n",
       " [47, 24, 3],\n",
       " [47, 44, 1],\n",
       " [48, 43, 5],\n",
       " [48, 15, 10],\n",
       " [48, 42, 7],\n",
       " [49, 2, 6],\n",
       " [49, 37, 3]]"
      ]
     },
     "execution_count": 2,
     "metadata": {},
     "output_type": "execute_result"
    }
   ],
   "source": [
    "f2"
   ]
  },
  {
   "cell_type": "code",
   "execution_count": 3,
   "metadata": {},
   "outputs": [],
   "source": [
    "class GraphNode:\n",
    "    \n",
    "#     neighbors=[]\n",
    "#     distance=0\n",
    "    \n",
    "    def __init__(self, id):\n",
    "        self.id = id\n",
    "#         self.edges = []\n",
    "        self.visited=False\n",
    "        self.neighbors=[]\n",
    "        self.distance=0\n",
    "    \n",
    "#     def add_neighbor(self,node):\n",
    "#         self.neighbors.append(node)\n",
    "        \n",
    "    \n",
    "    def add_neighbor(self, node, weight):\n",
    "        self.neighbors.append([node,weight])\n",
    "#         this->neighbors.add(node_id, weight)\n",
    "    \n",
    "    \n",
    "    def get_neighbors(self): \n",
    "        return self.neighbors\n",
    "        "
   ]
  },
  {
   "cell_type": "code",
   "execution_count": 4,
   "metadata": {},
   "outputs": [],
   "source": [
    "def build_graph(f2):\n",
    "    graph=[]\n",
    "    \n",
    "#     initialize the graph array with GraphNode\n",
    "    for i in range(50):\n",
    "        newnode=GraphNode(i)\n",
    "        graph.append(newnode)\n",
    "    \n",
    "\n",
    "#     read from file and construct a graph\n",
    "    \n",
    "    for line in f2:\n",
    "        id1=(line[0])\n",
    "        id2=(line[1])\n",
    "        weight=(line[2])\n",
    "       \n",
    "        \n",
    "#         GraphNode(id1).add_neighbor(GraphNode(id2))\n",
    "        graph[id1].add_neighbor(graph[id2],weight)\n",
    "        \n",
    "    \n",
    "    return graph"
   ]
  },
  {
   "cell_type": "code",
   "execution_count": null,
   "metadata": {},
   "outputs": [],
   "source": []
  },
  {
   "cell_type": "code",
   "execution_count": 5,
   "metadata": {},
   "outputs": [],
   "source": [
    "graph=build_graph(f2)"
   ]
  },
  {
   "cell_type": "code",
   "execution_count": 6,
   "metadata": {},
   "outputs": [
    {
     "name": "stdout",
     "output_type": "stream",
     "text": [
      "47 10\n",
      "9 1\n",
      "48 7\n",
      "7 10\n",
      "20 2\n"
     ]
    }
   ],
   "source": [
    "for i in graph[30].get_neighbors():\n",
    "    print (i[0].id,i[1])"
   ]
  },
  {
   "cell_type": "code",
   "execution_count": 7,
   "metadata": {},
   "outputs": [
    {
     "name": "stdout",
     "output_type": "stream",
     "text": [
      "False\n",
      "False\n",
      "False\n",
      "False\n",
      "False\n"
     ]
    }
   ],
   "source": [
    "for i in graph[43].get_neighbors():\n",
    "    print (i[0].visited)"
   ]
  },
  {
   "cell_type": "code",
   "execution_count": 8,
   "metadata": {},
   "outputs": [
    {
     "data": {
      "text/plain": [
       "'write spec'"
      ]
     },
     "execution_count": 8,
     "metadata": {},
     "output_type": "execute_result"
    }
   ],
   "source": [
    "# a test with heapq\n",
    "import heapq\n",
    "h = []\n",
    "heapq.heappush(h, (5, 'write code'))\n",
    "heapq.heappush(h, (7, 'release product'))\n",
    "heapq.heappush(h, (1, 'write spec'))\n",
    "heapq.heappush(h, (3, 'create tests'))\n",
    "a,b=heapq.heappop(h)\n",
    "a\n",
    "b"
   ]
  },
  {
   "cell_type": "code",
   "execution_count": 9,
   "metadata": {},
   "outputs": [],
   "source": [
    "# h = []\n",
    "# heapq.heappush(h, (5, 'write code'))"
   ]
  },
  {
   "cell_type": "code",
   "execution_count": 10,
   "metadata": {},
   "outputs": [],
   "source": [
    "def dijkstra(graph, source_id, destination_id):\n",
    "    if source_id == destination_id:\n",
    "        return 0\n",
    "\n",
    "    for node in graph:\n",
    "        node.visited = False\n",
    "        node.distance = 10**9\n",
    "    \n",
    "    \n",
    "#     for (int i = 0; i < graph.size(); i++):\n",
    "#         graph[i].visited = false  // necessary if you call this function multiple times\n",
    "#         graph[i].distance = 1e9   // set initial distance a very large number\n",
    "    \n",
    "\n",
    "#     Set sourse distance 0 so it will be popped out priority queue the first\n",
    "    \n",
    "    graph[source_id].distance = 0\n",
    "\n",
    "#     Create a priority queue containing all GraphNode\n",
    "#     priority_queue<GraphNode> q\n",
    "    \n",
    "    import heapq\n",
    "    q = []\n",
    "    \n",
    "    \n",
    "    for i in range(len(graph)):\n",
    "        heapq.heappush(q, (graph[i].distance,graph[i].id))\n",
    "#     print (q)\n",
    "        \n",
    "    \n",
    "\n",
    "    for i in range(len(graph)-1):\n",
    "        ndist,nid = heapq.heappop(q)\n",
    "        node_id = nid\n",
    "#         print ('min', node_id)\n",
    "\n",
    "#         // Because of lazy insertion, we need to check if the node is visited\n",
    "        while graph[node_id].visited == True:\n",
    "            ndist,nid = heapq.heappop(q)\n",
    "            node_id = nid\n",
    "#             print ('true',node_id)\n",
    "        \n",
    "\n",
    "#         // Hit if we extract distination node from priority queue\n",
    "        if node_id == destination_id:\n",
    "            return graph[destination_id].distance\n",
    "\n",
    "#         // If we get a unvisited node from the graph\n",
    "        graph[node_id].visited = True\n",
    "\n",
    "#         // intpair is used here\n",
    "        k=graph[node_id].get_neighbors()\n",
    "        for pair in k:\n",
    "            if graph[pair[0].id].visited == False and graph[node_id].distance + pair[1] < graph[pair[0].id].distance:\n",
    "                graph[pair[0].id].distance = graph[node_id].distance + pair[1] \n",
    "                \n",
    "                #q.push(graph[nb_node_id])\n",
    "                heapq.heappush(q, (graph[pair[0].id].distance,pair[0].id))\n",
    "            \n",
    "        \n",
    "    \n",
    "    return graph[destination_id].distance\n"
   ]
  },
  {
   "cell_type": "code",
   "execution_count": 11,
   "metadata": {},
   "outputs": [
    {
     "name": "stdout",
     "output_type": "stream",
     "text": [
      "47 10\n",
      "9 1\n",
      "48 7\n",
      "7 10\n",
      "20 2\n"
     ]
    }
   ],
   "source": [
    "graph1=build_graph(f2)\n",
    "for i in graph1[30].get_neighbors():\n",
    "    print (i[0].id,i[1])"
   ]
  },
  {
   "cell_type": "code",
   "execution_count": 12,
   "metadata": {},
   "outputs": [
    {
     "name": "stdout",
     "output_type": "stream",
     "text": [
      "the shortest distance from node 30 to the node 0 is 9\n",
      "the shortest distance from node 30 to the node 1 is 15\n",
      "the shortest distance from node 30 to the node 2 is 8\n",
      "the shortest distance from node 30 to the node 3 is 16\n",
      "the shortest distance from node 30 to the node 4 is 1000000000\n",
      "the shortest distance from node 30 to the node 5 is 14\n",
      "the shortest distance from node 30 to the node 6 is 10\n",
      "the shortest distance from node 30 to the node 7 is 10\n",
      "the shortest distance from node 30 to the node 8 is 2\n",
      "the shortest distance from node 30 to the node 9 is 1\n",
      "the shortest distance from node 30 to the node 10 is 17\n"
     ]
    }
   ],
   "source": [
    "graph1=build_graph(f2)\n",
    "for i in range(11):\n",
    "    dis=dijkstra(graph1, 30, i)\n",
    "    print ('the shortest distance from node 30 to the node',i,'is', dis)\n",
    "\n",
    "# dijkstra(graph1, 30, 9)"
   ]
  },
  {
   "cell_type": "code",
   "execution_count": null,
   "metadata": {},
   "outputs": [],
   "source": []
  },
  {
   "cell_type": "code",
   "execution_count": null,
   "metadata": {},
   "outputs": [],
   "source": []
  },
  {
   "cell_type": "code",
   "execution_count": null,
   "metadata": {},
   "outputs": [],
   "source": []
  },
  {
   "cell_type": "code",
   "execution_count": null,
   "metadata": {},
   "outputs": [],
   "source": []
  },
  {
   "cell_type": "code",
   "execution_count": null,
   "metadata": {},
   "outputs": [],
   "source": []
  },
  {
   "cell_type": "code",
   "execution_count": null,
   "metadata": {},
   "outputs": [],
   "source": [
    " "
   ]
  },
  {
   "cell_type": "code",
   "execution_count": null,
   "metadata": {},
   "outputs": [],
   "source": []
  },
  {
   "cell_type": "code",
   "execution_count": null,
   "metadata": {},
   "outputs": [],
   "source": []
  },
  {
   "cell_type": "code",
   "execution_count": null,
   "metadata": {},
   "outputs": [],
   "source": []
  },
  {
   "cell_type": "code",
   "execution_count": null,
   "metadata": {},
   "outputs": [],
   "source": []
  },
  {
   "cell_type": "code",
   "execution_count": null,
   "metadata": {},
   "outputs": [],
   "source": []
  },
  {
   "cell_type": "code",
   "execution_count": null,
   "metadata": {},
   "outputs": [],
   "source": [
    "\n"
   ]
  },
  {
   "cell_type": "code",
   "execution_count": null,
   "metadata": {},
   "outputs": [],
   "source": []
  },
  {
   "cell_type": "code",
   "execution_count": null,
   "metadata": {},
   "outputs": [],
   "source": []
  },
  {
   "cell_type": "code",
   "execution_count": null,
   "metadata": {},
   "outputs": [],
   "source": []
  },
  {
   "cell_type": "code",
   "execution_count": null,
   "metadata": {},
   "outputs": [],
   "source": []
  },
  {
   "cell_type": "code",
   "execution_count": null,
   "metadata": {},
   "outputs": [],
   "source": []
  },
  {
   "cell_type": "code",
   "execution_count": null,
   "metadata": {},
   "outputs": [],
   "source": []
  },
  {
   "cell_type": "code",
   "execution_count": null,
   "metadata": {},
   "outputs": [],
   "source": []
  },
  {
   "cell_type": "code",
   "execution_count": null,
   "metadata": {},
   "outputs": [],
   "source": []
  },
  {
   "cell_type": "code",
   "execution_count": null,
   "metadata": {},
   "outputs": [],
   "source": []
  },
  {
   "cell_type": "code",
   "execution_count": null,
   "metadata": {},
   "outputs": [],
   "source": []
  },
  {
   "cell_type": "code",
   "execution_count": null,
   "metadata": {},
   "outputs": [],
   "source": []
  },
  {
   "cell_type": "code",
   "execution_count": null,
   "metadata": {},
   "outputs": [],
   "source": []
  },
  {
   "cell_type": "code",
   "execution_count": null,
   "metadata": {},
   "outputs": [],
   "source": []
  },
  {
   "cell_type": "code",
   "execution_count": null,
   "metadata": {},
   "outputs": [],
   "source": []
  },
  {
   "cell_type": "code",
   "execution_count": null,
   "metadata": {},
   "outputs": [],
   "source": []
  },
  {
   "cell_type": "code",
   "execution_count": null,
   "metadata": {},
   "outputs": [],
   "source": []
  },
  {
   "cell_type": "code",
   "execution_count": null,
   "metadata": {},
   "outputs": [],
   "source": []
  },
  {
   "cell_type": "code",
   "execution_count": null,
   "metadata": {},
   "outputs": [],
   "source": []
  },
  {
   "cell_type": "code",
   "execution_count": null,
   "metadata": {},
   "outputs": [],
   "source": []
  },
  {
   "cell_type": "code",
   "execution_count": null,
   "metadata": {},
   "outputs": [],
   "source": []
  },
  {
   "cell_type": "code",
   "execution_count": null,
   "metadata": {},
   "outputs": [],
   "source": []
  }
 ],
 "metadata": {
  "kernelspec": {
   "display_name": "Python 3",
   "language": "python",
   "name": "python3"
  },
  "language_info": {
   "codemirror_mode": {
    "name": "ipython",
    "version": 3
   },
   "file_extension": ".py",
   "mimetype": "text/x-python",
   "name": "python",
   "nbconvert_exporter": "python",
   "pygments_lexer": "ipython3",
   "version": "3.7.1"
  }
 },
 "nbformat": 4,
 "nbformat_minor": 2
}
