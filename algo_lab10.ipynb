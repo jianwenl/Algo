{
 "cells": [
  {
   "cell_type": "markdown",
   "metadata": {},
   "source": [
    "# Algo lab 9"
   ]
  },
  {
   "cell_type": "code",
   "execution_count": 1,
   "metadata": {},
   "outputs": [],
   "source": [
    "class GraphNode:\n",
    "    \n",
    "#     neighbors=[]\n",
    "#     distance=0\n",
    "    \n",
    "    def __init__(self, id):\n",
    "        self.id = id\n",
    "#         self.edges = []\n",
    "        self.visited=False\n",
    "        self.neighbors=[]\n",
    "        self.distance=0\n",
    "    \n",
    "    def add_neighbor(self,node):\n",
    "        self.neighbors.append(node)\n",
    "    \n",
    "    def get_neighbors(self): \n",
    "        return self.neighbors\n",
    "\n",
    "        "
   ]
  },
  {
   "cell_type": "code",
   "execution_count": null,
   "metadata": {},
   "outputs": [],
   "source": [
    "# class GraphNode {\n",
    "#     int id  // which is also its index in graph array\n",
    "#     list neighbors\n",
    "#     bool visited\n",
    "#     int distance  // record its distance \n",
    "\n",
    "#     // Constructor\n",
    "#     GraphNode(int id) {\n",
    "#         this->id = id\n",
    "#         this->visited = false\n",
    "#     }\n",
    " \n",
    "#     // Add neighbour to the neighbour list\n",
    "#     add_neighbor(int node_id)\n",
    "#         this->neighbors.add(node_id)\n",
    "\n",
    "#     // Return the neighbor list\n",
    "#     get_neighbors() \n",
    "#         return this->neighbors\n",
    "# }"
   ]
  },
  {
   "cell_type": "code",
   "execution_count": null,
   "metadata": {},
   "outputs": [],
   "source": []
  },
  {
   "cell_type": "code",
   "execution_count": 2,
   "metadata": {},
   "outputs": [],
   "source": [
    "f = open('lab10_test_bfs.txt', 'r')\n"
   ]
  },
  {
   "cell_type": "code",
   "execution_count": 3,
   "metadata": {},
   "outputs": [],
   "source": [
    "f1= [line.strip() for line in f]"
   ]
  },
  {
   "cell_type": "code",
   "execution_count": 4,
   "metadata": {},
   "outputs": [],
   "source": [
    "f2=[]\n",
    "for i in f1:\n",
    "    f2.append(i.split())\n",
    "    "
   ]
  },
  {
   "cell_type": "code",
   "execution_count": 5,
   "metadata": {},
   "outputs": [],
   "source": [
    "f2=[list( map(int,i) ) for i in f2]"
   ]
  },
  {
   "cell_type": "code",
   "execution_count": null,
   "metadata": {},
   "outputs": [],
   "source": [
    "# f2"
   ]
  },
  {
   "cell_type": "code",
   "execution_count": null,
   "metadata": {},
   "outputs": [],
   "source": [
    "# class Graph:\n",
    "#     def __init__(self, nodes=[]):\n",
    "#         self.nodes = nodes\n",
    "\n",
    "#     def add_node(self, val):\n",
    "#         newNode = GraphNode(val)\n",
    "#         self.nodes.append(newNode)\n",
    "\n",
    "#     def add_edge(self, node1, node2):\n",
    "#         node1.edges.append(node2)\n",
    "#         node2.edges.append(node1)"
   ]
  },
  {
   "cell_type": "code",
   "execution_count": null,
   "metadata": {},
   "outputs": [],
   "source": []
  },
  {
   "cell_type": "code",
   "execution_count": null,
   "metadata": {},
   "outputs": [],
   "source": []
  },
  {
   "cell_type": "code",
   "execution_count": 6,
   "metadata": {},
   "outputs": [],
   "source": [
    "def build_graph(f2):\n",
    "    graph=[]\n",
    "    \n",
    "#     initialize the graph array with GraphNode\n",
    "    for i in range(50):\n",
    "        newnode=GraphNode(i)\n",
    "        graph.append(newnode)\n",
    "    \n",
    "\n",
    "#     read from file and construct a graph\n",
    "    \n",
    "    for line in f2:\n",
    "        id1=(line[0])\n",
    "        id2=(line[1])\n",
    "       \n",
    "        \n",
    "#         GraphNode(id1).add_neighbor(GraphNode(id2))\n",
    "        graph[id1].add_neighbor(graph[id2])\n",
    "        \n",
    "    \n",
    "    return graph\n"
   ]
  },
  {
   "cell_type": "code",
   "execution_count": 7,
   "metadata": {},
   "outputs": [],
   "source": [
    "graph=build_graph(f2)"
   ]
  },
  {
   "cell_type": "code",
   "execution_count": 8,
   "metadata": {},
   "outputs": [
    {
     "data": {
      "text/plain": [
       "[<__main__.GraphNode at 0x103742908>,\n",
       " <__main__.GraphNode at 0x103742550>,\n",
       " <__main__.GraphNode at 0x103742208>,\n",
       " <__main__.GraphNode at 0x103742240>,\n",
       " <__main__.GraphNode at 0x103774048>,\n",
       " <__main__.GraphNode at 0x1037740b8>,\n",
       " <__main__.GraphNode at 0x103774128>,\n",
       " <__main__.GraphNode at 0x1037740f0>,\n",
       " <__main__.GraphNode at 0x103774080>,\n",
       " <__main__.GraphNode at 0x103774160>,\n",
       " <__main__.GraphNode at 0x103774198>,\n",
       " <__main__.GraphNode at 0x103774240>,\n",
       " <__main__.GraphNode at 0x1037741d0>,\n",
       " <__main__.GraphNode at 0x103774208>,\n",
       " <__main__.GraphNode at 0x103774278>,\n",
       " <__main__.GraphNode at 0x103774320>,\n",
       " <__main__.GraphNode at 0x103774390>,\n",
       " <__main__.GraphNode at 0x103774400>,\n",
       " <__main__.GraphNode at 0x103774438>,\n",
       " <__main__.GraphNode at 0x1037743c8>,\n",
       " <__main__.GraphNode at 0x103774358>,\n",
       " <__main__.GraphNode at 0x103774470>,\n",
       " <__main__.GraphNode at 0x1037744e0>,\n",
       " <__main__.GraphNode at 0x103774550>,\n",
       " <__main__.GraphNode at 0x103774588>,\n",
       " <__main__.GraphNode at 0x103774518>,\n",
       " <__main__.GraphNode at 0x1037744a8>,\n",
       " <__main__.GraphNode at 0x1037745c0>,\n",
       " <__main__.GraphNode at 0x1037745f8>,\n",
       " <__main__.GraphNode at 0x103774748>,\n",
       " <__main__.GraphNode at 0x1037747b8>,\n",
       " <__main__.GraphNode at 0x1037747f0>,\n",
       " <__main__.GraphNode at 0x103774780>,\n",
       " <__main__.GraphNode at 0x103774630>,\n",
       " <__main__.GraphNode at 0x103774668>,\n",
       " <__main__.GraphNode at 0x1037746d8>,\n",
       " <__main__.GraphNode at 0x103774710>,\n",
       " <__main__.GraphNode at 0x1037746a0>,\n",
       " <__main__.GraphNode at 0x1037742e8>,\n",
       " <__main__.GraphNode at 0x1037742b0>,\n",
       " <__main__.GraphNode at 0x103774828>,\n",
       " <__main__.GraphNode at 0x103774860>,\n",
       " <__main__.GraphNode at 0x1037748d0>,\n",
       " <__main__.GraphNode at 0x103774898>,\n",
       " <__main__.GraphNode at 0x103774940>,\n",
       " <__main__.GraphNode at 0x103774978>,\n",
       " <__main__.GraphNode at 0x1037749b0>,\n",
       " <__main__.GraphNode at 0x1037749e8>,\n",
       " <__main__.GraphNode at 0x103774a20>,\n",
       " <__main__.GraphNode at 0x103774a58>]"
      ]
     },
     "execution_count": 8,
     "metadata": {},
     "output_type": "execute_result"
    }
   ],
   "source": [
    "graph"
   ]
  },
  {
   "cell_type": "code",
   "execution_count": 9,
   "metadata": {},
   "outputs": [
    {
     "name": "stdout",
     "output_type": "stream",
     "text": [
      "45\n",
      "7\n",
      "34\n"
     ]
    }
   ],
   "source": [
    "for i in graph[0].get_neighbors():\n",
    "    print (i.id)"
   ]
  },
  {
   "cell_type": "code",
   "execution_count": 10,
   "metadata": {},
   "outputs": [
    {
     "name": "stdout",
     "output_type": "stream",
     "text": [
      "False\n",
      "False\n",
      "False\n",
      "False\n",
      "False\n"
     ]
    }
   ],
   "source": [
    "for i in graph[43].get_neighbors():\n",
    "    print (i.visited)"
   ]
  },
  {
   "cell_type": "code",
   "execution_count": null,
   "metadata": {},
   "outputs": [],
   "source": [
    "# build_graph() {\n",
    "#     array<GraphNode> graph\n",
    "#     // initialize the graph array with GraphNode\n",
    "#     for (int i = 0; i < 50; i++) {\n",
    "#         graph[i] = GraphNode(i)\n",
    "#     }\n",
    "\n",
    "#     // read from file and construct a graph\n",
    "#     input_file.open(\"lab10_test_bfs.txt\")\n",
    "#     for each line in input_file {\n",
    "#         extract node1 and node2\n",
    "#         graph[node1].add_neighbour(node2)\n",
    "#     }\n",
    "#     return graph\n",
    "# }"
   ]
  },
  {
   "cell_type": "code",
   "execution_count": null,
   "metadata": {},
   "outputs": [],
   "source": []
  },
  {
   "cell_type": "code",
   "execution_count": null,
   "metadata": {},
   "outputs": [],
   "source": []
  },
  {
   "cell_type": "code",
   "execution_count": null,
   "metadata": {},
   "outputs": [],
   "source": []
  },
  {
   "cell_type": "code",
   "execution_count": null,
   "metadata": {},
   "outputs": [],
   "source": []
  },
  {
   "cell_type": "code",
   "execution_count": null,
   "metadata": {},
   "outputs": [],
   "source": []
  },
  {
   "cell_type": "code",
   "execution_count": 11,
   "metadata": {},
   "outputs": [],
   "source": [
    "def bfs(graph, source_id, destination_id):\n",
    "#     boundary case\n",
    "    if source_id == destination_id:\n",
    "        return 0\n",
    "\n",
    "#     This is necessary if we call the function multiple times\n",
    "#     Set all graph node's visited field = false\n",
    "    for node in graph:\n",
    "        node.visited = False\n",
    "\n",
    "#     Deal with source node\n",
    "    graph[source_id].visited = True\n",
    "    graph[source_id].distance = 0\n",
    "    \n",
    "    from collections import deque\n",
    "    q = deque([graph[source_id]]) \n",
    "#     q=[graph[source_id]]\n",
    "\n",
    "    while q:\n",
    "        #print(len(q))\n",
    "        node_id = q.popleft().id\n",
    "#         print (node_id)\n",
    "        \n",
    "        cur_distance = graph[node_id].distance\n",
    "#         print (cur_distance)\n",
    "       \n",
    "        #print([i.id for i in graph[node_id].get_neighbors()],node_id,graph[40].visited)\n",
    "        for n in graph[node_id].get_neighbors():\n",
    "            #print (\"?\",n.id)\n",
    "            #print(n.id,destination_id)\n",
    "#             // Find the destination node\n",
    "            if n.id == destination_id:\n",
    "                return (cur_distance+1)\n",
    "            else:\n",
    "                #print(n.id,n.visited,graph[40].visited)\n",
    "                if not n.visited:\n",
    "                    n.visited=True\n",
    "                    n.distance=cur_distance+1\n",
    "                    #print (n.distance)\n",
    "                    q.append(n)\n",
    "                    #print(len(q))\n",
    "            \n",
    "        \n",
    "    \n",
    "    return -1\n"
   ]
  },
  {
   "cell_type": "code",
   "execution_count": null,
   "metadata": {},
   "outputs": [],
   "source": []
  },
  {
   "cell_type": "code",
   "execution_count": 12,
   "metadata": {},
   "outputs": [],
   "source": [
    "#graph=build_graph(f2)\n",
    "dist=bfs(graph, 15, 38)"
   ]
  },
  {
   "cell_type": "code",
   "execution_count": 13,
   "metadata": {},
   "outputs": [],
   "source": [
    "# for i in range(50):\n",
    "#     print (graph[i].visited)"
   ]
  },
  {
   "cell_type": "code",
   "execution_count": 14,
   "metadata": {},
   "outputs": [
    {
     "data": {
      "text/plain": [
       "9"
      ]
     },
     "execution_count": 14,
     "metadata": {},
     "output_type": "execute_result"
    }
   ],
   "source": [
    "dist"
   ]
  },
  {
   "cell_type": "code",
   "execution_count": null,
   "metadata": {},
   "outputs": [],
   "source": []
  },
  {
   "cell_type": "code",
   "execution_count": 15,
   "metadata": {},
   "outputs": [
    {
     "data": {
      "text/plain": [
       "4"
      ]
     },
     "execution_count": 15,
     "metadata": {},
     "output_type": "execute_result"
    }
   ],
   "source": [
    "# graph=build_graph(f2)\n",
    "dist1=bfs(graph, 23, 11)\n",
    "dist1"
   ]
  },
  {
   "cell_type": "code",
   "execution_count": 16,
   "metadata": {},
   "outputs": [
    {
     "data": {
      "text/plain": [
       "-1"
      ]
     },
     "execution_count": 16,
     "metadata": {},
     "output_type": "execute_result"
    }
   ],
   "source": [
    "\n",
    "dist3=bfs(graph, 39, 4)\n",
    "dist3"
   ]
  },
  {
   "cell_type": "code",
   "execution_count": null,
   "metadata": {},
   "outputs": [],
   "source": []
  },
  {
   "cell_type": "code",
   "execution_count": null,
   "metadata": {},
   "outputs": [],
   "source": []
  },
  {
   "cell_type": "code",
   "execution_count": null,
   "metadata": {},
   "outputs": [],
   "source": []
  }
 ],
 "metadata": {
  "kernelspec": {
   "display_name": "Python 3",
   "language": "python",
   "name": "python3"
  },
  "language_info": {
   "codemirror_mode": {
    "name": "ipython",
    "version": 3
   },
   "file_extension": ".py",
   "mimetype": "text/x-python",
   "name": "python",
   "nbconvert_exporter": "python",
   "pygments_lexer": "ipython3",
   "version": "3.6.8"
  }
 },
 "nbformat": 4,
 "nbformat_minor": 2
}
